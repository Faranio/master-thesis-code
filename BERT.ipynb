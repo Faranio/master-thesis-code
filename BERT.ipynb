{
 "cells": [
  {
   "cell_type": "markdown",
   "metadata": {},
   "source": [
    "## Import packages"
   ]
  },
  {
   "cell_type": "code",
   "execution_count": 1,
   "metadata": {},
   "outputs": [
    {
     "name": "stderr",
     "output_type": "stream",
     "text": [
      "/home/faranio/Desktop/EDISS/Thesis/implementation/venv/lib/python3.8/site-packages/tqdm/auto.py:21: TqdmWarning: IProgress not found. Please update jupyter and ipywidgets. See https://ipywidgets.readthedocs.io/en/stable/user_install.html\n",
      "  from .autonotebook import tqdm as notebook_tqdm\n"
     ]
    }
   ],
   "source": [
    "import joblib\n",
    "import json\n",
    "import os\n",
    "import time\n",
    "from pathlib import Path\n",
    "\n",
    "import cv2\n",
    "import numpy as np\n",
    "import torch\n",
    "from seqeval.metrics import f1_score, precision_score, recall_score, classification_report\n",
    "from sklearn.metrics import confusion_matrix\n",
    "from torch.utils.data import Dataset, DataLoader\n",
    "from transformers import AdamW, BertTokenizerFast, BertForTokenClassification, get_linear_schedule_with_warmup, RobertaForTokenClassification, RobertaTokenizerFast"
   ]
  },
  {
   "cell_type": "markdown",
   "metadata": {},
   "source": [
    "## Define constants"
   ]
  },
  {
   "cell_type": "code",
   "execution_count": 2,
   "metadata": {},
   "outputs": [],
   "source": [
    "# Path to the preprocessed dataset (for token classification task)\n",
    "DATASET_PATH = Path(\"../data/SROIE/layoutlm_data\")\n",
    "\n",
    "TRAIN_DATASET_PATH = DATASET_PATH / \"train.txt\"\n",
    "TEST_DATASET_PATH = DATASET_PATH / \"test.txt\"\n",
    "\n",
    "# Hyperparameters for the BERT algorithm\n",
    "BATCH_SIZE = 8\n",
    "EPOCHS = 10\n",
    "LEARNING_RATE = 1e-5\n",
    "MAX_SEQ_LEN = 128"
   ]
  },
  {
   "cell_type": "markdown",
   "metadata": {},
   "source": [
    "## Prepare dataset"
   ]
  },
  {
   "cell_type": "code",
   "execution_count": 3,
   "metadata": {},
   "outputs": [],
   "source": [
    "label_map = {\n",
    "    \"CLS\": 0,\n",
    "    \"O\": 1,\n",
    "    \"S-ADDRESS\": 2,\n",
    "    \"S-COMPANY\": 3,\n",
    "    \"S-DATE\": 4,\n",
    "    \"S-TOTAL\": 5\n",
    "}\n",
    "\n",
    "reverse_label_map = {\n",
    "    0: \"CLS\",\n",
    "    1: \"O\",\n",
    "    2: \"S-ADDRESS\",\n",
    "    3: \"S-COMPANY\",\n",
    "    4: \"S-DATE\",\n",
    "    5: \"S-TOTAL\"\n",
    "}"
   ]
  },
  {
   "cell_type": "code",
   "execution_count": 4,
   "metadata": {},
   "outputs": [],
   "source": [
    "class SROIEDataset(Dataset):\n",
    "    def __init__(self, file_path, tokenizer, max_seq_len, label_map):\n",
    "        self.tokenizer = tokenizer\n",
    "        self.max_seq_len = max_seq_len\n",
    "        self.label_map = label_map\n",
    "        \n",
    "        self.labels = []\n",
    "        self.sentences = []\n",
    "        \n",
    "        with open(file_path, 'r') as f:\n",
    "            sentence = []\n",
    "            labels = []\n",
    "            \n",
    "            for line in f:\n",
    "                line = line.strip()\n",
    "                \n",
    "                if not line:\n",
    "                    if sentence and labels:\n",
    "                        self.sentences.append(' '.join(sentence))\n",
    "                        self.labels.append(labels)\n",
    "                    \n",
    "                    sentence = []\n",
    "                    labels = []\n",
    "                else:\n",
    "                    word, label = line.split(\"\\t\")\n",
    "                    sentence.append(word)\n",
    "                    labels.append(label)\n",
    "                    \n",
    "    def __len__(self):\n",
    "        return len(self.sentences)\n",
    "    \n",
    "    def __getitem__(self, idx):\n",
    "        sentence = self.sentences[idx]\n",
    "        labels = self.labels[idx]\n",
    "        \n",
    "        inputs = self.tokenizer.encode_plus(sentence, truncation=True, padding=\"max_length\", max_length=self.max_seq_len)\n",
    "        input_ids = inputs[\"input_ids\"]\n",
    "        attention_mask = inputs[\"attention_mask\"]\n",
    "        \n",
    "        label_ids = [self.label_map[l] for l in labels]\n",
    "        label_ids = label_ids[:self.max_seq_len - 2]  # truncate if necessary\n",
    "        label_ids = [0] + label_ids + [0]  # add special tokens\n",
    "        label_ids = label_ids + [0]*(self.max_seq_len - len(label_ids))  # pad if necessary\n",
    "\n",
    "        return {\n",
    "            \"input_ids\": torch.tensor(input_ids, dtype=torch.long),\n",
    "            \"attention_mask\": torch.tensor(attention_mask, dtype=torch.long),\n",
    "            \"labels\": torch.tensor(label_ids, dtype=torch.long)\n",
    "        }"
   ]
  },
  {
   "cell_type": "code",
   "execution_count": 5,
   "metadata": {},
   "outputs": [],
   "source": [
    "# tokenizer = BertTokenizerFast.from_pretrained('bert-base-uncased')\n",
    "tokenizer = RobertaTokenizerFast.from_pretrained('roberta-base')\n",
    "\n",
    "train_dataset = SROIEDataset(TRAIN_DATASET_PATH, tokenizer, MAX_SEQ_LEN, label_map)\n",
    "train_dataloader = DataLoader(train_dataset, batch_size=BATCH_SIZE, shuffle=True)\n",
    "\n",
    "test_dataset = SROIEDataset(TEST_DATASET_PATH, tokenizer, MAX_SEQ_LEN, label_map)\n",
    "test_dataloader = DataLoader(test_dataset, batch_size=BATCH_SIZE, shuffle=False)"
   ]
  },
  {
   "cell_type": "markdown",
   "metadata": {},
   "source": [
    "## Train"
   ]
  },
  {
   "cell_type": "code",
   "execution_count": 6,
   "metadata": {},
   "outputs": [
    {
     "name": "stderr",
     "output_type": "stream",
     "text": [
      "Some weights of the model checkpoint at roberta-base were not used when initializing RobertaForTokenClassification: ['lm_head.layer_norm.weight', 'lm_head.dense.weight', 'lm_head.layer_norm.bias', 'lm_head.bias', 'lm_head.dense.bias', 'lm_head.decoder.weight']\n",
      "- This IS expected if you are initializing RobertaForTokenClassification from the checkpoint of a model trained on another task or with another architecture (e.g. initializing a BertForSequenceClassification model from a BertForPreTraining model).\n",
      "- This IS NOT expected if you are initializing RobertaForTokenClassification from the checkpoint of a model that you expect to be exactly identical (initializing a BertForSequenceClassification model from a BertForSequenceClassification model).\n",
      "Some weights of RobertaForTokenClassification were not initialized from the model checkpoint at roberta-base and are newly initialized: ['classifier.weight', 'classifier.bias']\n",
      "You should probably TRAIN this model on a down-stream task to be able to use it for predictions and inference.\n"
     ]
    }
   ],
   "source": [
    "device = torch.device(\"cuda\" if torch.cuda.is_available() else \"cpu\")\n",
    "\n",
    "# Use either BERT or RoBERTa model\n",
    "# model = BertForTokenClassification.from_pretrained('bert-base-uncased', num_labels=6)\n",
    "model = RobertaForTokenClassification.from_pretrained('roberta-base', num_labels=6)\n",
    "model = model.to(device)"
   ]
  },
  {
   "cell_type": "code",
   "execution_count": 7,
   "metadata": {},
   "outputs": [
    {
     "name": "stderr",
     "output_type": "stream",
     "text": [
      "/home/faranio/Desktop/EDISS/Thesis/implementation/venv/lib/python3.8/site-packages/transformers/optimization.py:391: FutureWarning: This implementation of AdamW is deprecated and will be removed in a future version. Use the PyTorch implementation torch.optim.AdamW instead, or set `no_deprecation_warning=True` to disable this warning\n",
      "  warnings.warn(\n"
     ]
    }
   ],
   "source": [
    "optimizer = AdamW(model.parameters(), lr=LEARNING_RATE)\n",
    "scheduler = get_linear_schedule_with_warmup(\n",
    "    optimizer, \n",
    "    num_warmup_steps=0, \n",
    "    num_training_steps=len(train_dataloader) * EPOCHS\n",
    ")\n",
    "\n",
    "loss_values = []"
   ]
  },
  {
   "cell_type": "code",
   "execution_count": 8,
   "metadata": {},
   "outputs": [
    {
     "name": "stdout",
     "output_type": "stream",
     "text": [
      "\n",
      "======== Epoch 1 / 10 ========\n",
      "Average training loss: 0.82\n",
      "\n",
      "======== Epoch 2 / 10 ========\n",
      "Average training loss: 0.40\n",
      "\n",
      "======== Epoch 3 / 10 ========\n",
      "Average training loss: 0.34\n",
      "\n",
      "======== Epoch 4 / 10 ========\n",
      "Average training loss: 0.30\n",
      "\n",
      "======== Epoch 5 / 10 ========\n",
      "Average training loss: 0.29\n",
      "\n",
      "======== Epoch 6 / 10 ========\n",
      "Average training loss: 0.27\n",
      "\n",
      "======== Epoch 7 / 10 ========\n",
      "Average training loss: 0.25\n",
      "\n",
      "======== Epoch 8 / 10 ========\n",
      "Average training loss: 0.24\n",
      "\n",
      "======== Epoch 9 / 10 ========\n",
      "Average training loss: 0.22\n",
      "\n",
      "======== Epoch 10 / 10 ========\n",
      "Average training loss: 0.22\n",
      "Average elasped time for 1 epoch (in seconds): 241.80076909065247\n"
     ]
    }
   ],
   "source": [
    "times = []\n",
    "\n",
    "for epoch in range(EPOCHS):\n",
    "    # ========================================\n",
    "    #               Training\n",
    "    # ========================================\n",
    "    \n",
    "    # Perform one full pass over the training set.\n",
    "    print(\"\")\n",
    "    print('======== Epoch {:} / {:} ========'.format(epoch + 1, EPOCHS))\n",
    "\n",
    "    # Reset the total loss for this epoch.\n",
    "    total_loss = 0\n",
    "\n",
    "    # Put the model into training mode.\n",
    "    model.train()\n",
    "    \n",
    "    start = time.time()\n",
    "\n",
    "    # For each batch of training data...\n",
    "    for batch in train_dataloader:\n",
    "        # add batch to GPU\n",
    "        batch = {k: v.to(device) for k, v in batch.items()}\n",
    "\n",
    "        # Always clear any previously calculated gradients before performing a backward pass.\n",
    "        model.zero_grad()\n",
    "\n",
    "        # Perform a forward pass (evaluate the model on this training batch).\n",
    "        outputs = model(**batch)\n",
    "\n",
    "        # The call to model will return the loss (because we provided labels) and the \"logits\"--the model outputs prior to activation.\n",
    "        loss = outputs.loss\n",
    "        logits = outputs.logits\n",
    "\n",
    "        # Accumulate the training loss over all of the batches so that we can calculate the average loss at the end.\n",
    "        total_loss += loss.item()\n",
    "\n",
    "        # Perform a backward pass to calculate the gradients.\n",
    "        loss.backward()\n",
    "\n",
    "        # Clip the norm of the gradients to 1.0 to prevent \"exploding gradients\".\n",
    "        torch.nn.utils.clip_grad_norm_(model.parameters(), 1.0)\n",
    "\n",
    "        # Update parameters and take a step using the computed gradient.\n",
    "        optimizer.step()\n",
    "\n",
    "        # Update the learning rate.\n",
    "        scheduler.step()\n",
    "        \n",
    "    end = time.time()\n",
    "    times.append(end-start)\n",
    "\n",
    "    # Calculate the average loss over the training data.\n",
    "    avg_train_loss = total_loss / len(train_dataloader)\n",
    "    print(\"Average training loss: {0:.2f}\".format(avg_train_loss))\n",
    "\n",
    "    # Store the loss value for plotting the learning curve.\n",
    "    loss_values.append(avg_train_loss)\n",
    "    \n",
    "print(\"Average elasped time for 1 epoch (in seconds):\", np.average(times))"
   ]
  },
  {
   "cell_type": "code",
   "execution_count": null,
   "metadata": {},
   "outputs": [],
   "source": [
    "model_in_mem = joblib.dump(model, \"./bert.joblib\")\n",
    "size_in_bytes = os.path.getsize(\"./bert.joblib\")\n",
    "print(f\"Model size: {size_in_bytes / (1024 * 1024)} MB\")"
   ]
  },
  {
   "cell_type": "markdown",
   "metadata": {},
   "source": [
    "## Evaluate"
   ]
  },
  {
   "cell_type": "code",
   "execution_count": 10,
   "metadata": {},
   "outputs": [],
   "source": [
    "def evaluate(model, dataloader, device):\n",
    "    model.eval()\n",
    "\n",
    "    predictions , true_labels = [], []\n",
    "    times = []\n",
    "\n",
    "    for batch in dataloader:\n",
    "        batch = {k: v.to(device) for k, v in batch.items()}\n",
    "        \n",
    "        start = time.time()\n",
    "\n",
    "        with torch.no_grad():\n",
    "            outputs = model(**batch)\n",
    "            \n",
    "        end = time.time()\n",
    "        times.append(end-start)\n",
    "\n",
    "        logits = outputs.logits\n",
    "        logits = logits.detach().cpu().numpy()\n",
    "\n",
    "        label_ids = batch[\"labels\"].cpu().numpy()\n",
    "\n",
    "        predictions.extend([list(p) for p in np.argmax(logits, axis=2)])\n",
    "        true_labels.extend(label_ids)\n",
    "\n",
    "    pred_tags = [[reverse_label_map[p_i] for p_i in p] for p in predictions]\n",
    "    valid_tags = [[reverse_label_map[l_ii] for l_ii in l_i] for l_i in true_labels]\n",
    "    \n",
    "    print(\"F1-Score: \", f1_score(valid_tags, pred_tags))\n",
    "    print(\"Precision: \", precision_score(valid_tags, pred_tags))\n",
    "    print(\"Recall: \", recall_score(valid_tags, pred_tags))\n",
    "    print(classification_report(valid_tags, pred_tags))\n",
    "    print(\"Elapsed time for inference (in seconds):\", sum(times))"
   ]
  },
  {
   "cell_type": "code",
   "execution_count": 11,
   "metadata": {},
   "outputs": [
    {
     "name": "stdout",
     "output_type": "stream",
     "text": [
      "F1-Score:  0.8224739603132365\n",
      "Precision:  0.8366589327146172\n",
      "Recall:  0.808761961722488\n",
      "           precision    recall  f1-score   support\n",
      "\n",
      "  ADDRESS       0.90      0.92      0.91      3806\n",
      "  COMPANY       0.85      0.94      0.89      1457\n",
      "      CLS       0.51      0.63      0.56       694\n",
      "    TOTAL       0.00      0.00      0.00       331\n",
      "     DATE       0.75      0.21      0.33       400\n",
      "\n",
      "micro avg       0.84      0.81      0.82      6688\n",
      "macro avg       0.80      0.81      0.79      6688\n",
      "\n",
      "Elapsed time for inference (in seconds): 34.13233304023743\n"
     ]
    }
   ],
   "source": [
    "evaluate(model, test_dataloader, device)"
   ]
  },
  {
   "cell_type": "code",
   "execution_count": null,
   "metadata": {},
   "outputs": [],
   "source": []
  }
 ],
 "metadata": {
  "kernelspec": {
   "display_name": "thesis",
   "language": "python",
   "name": "thesis"
  },
  "language_info": {
   "codemirror_mode": {
    "name": "ipython",
    "version": 3
   },
   "file_extension": ".py",
   "mimetype": "text/x-python",
   "name": "python",
   "nbconvert_exporter": "python",
   "pygments_lexer": "ipython3",
   "version": "3.8.0"
  }
 },
 "nbformat": 4,
 "nbformat_minor": 2
}
